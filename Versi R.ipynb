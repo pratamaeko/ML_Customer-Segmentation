{
 "cells": [
  {
   "cell_type": "code",
   "execution_count": 1,
   "metadata": {},
   "outputs": [
    {
     "name": "stderr",
     "output_type": "stream",
     "text": [
      "Warning message:\n",
      "\"package 'ggplot2' was built under R version 3.6.3\"\n"
     ]
    }
   ],
   "source": [
    "#langkah pertama adalah memasukkan library yang akan dipakai\n",
    "library(ggplot2)"
   ]
  },
  {
   "cell_type": "code",
   "execution_count": 2,
   "metadata": {},
   "outputs": [
    {
     "data": {
      "text/html": [
       "<table>\n",
       "<caption>A data.frame: 6 × 7</caption>\n",
       "<thead>\n",
       "\t<tr><th></th><th scope=col>Customer_ID</th><th scope=col>Nama.Pelanggan</th><th scope=col>Jenis.Kelamin</th><th scope=col>Umur</th><th scope=col>Profesi</th><th scope=col>Tipe.Residen</th><th scope=col>NilaiBelanjaSetahun</th></tr>\n",
       "\t<tr><th></th><th scope=col>&lt;fct&gt;</th><th scope=col>&lt;fct&gt;</th><th scope=col>&lt;fct&gt;</th><th scope=col>&lt;int&gt;</th><th scope=col>&lt;fct&gt;</th><th scope=col>&lt;fct&gt;</th><th scope=col>&lt;int&gt;</th></tr>\n",
       "</thead>\n",
       "<tbody>\n",
       "\t<tr><th scope=row>1</th><td>CUST-001</td><td>Budi Anggara       </td><td>Pria  </td><td>58</td><td>Wiraswasta  </td><td>Sector </td><td> 9497927</td></tr>\n",
       "\t<tr><th scope=row>2</th><td>CUST-002</td><td>Shirley Ratuwati   </td><td>Wanita</td><td>14</td><td>Pelajar     </td><td>Cluster</td><td> 2722700</td></tr>\n",
       "\t<tr><th scope=row>3</th><td>CUST-003</td><td>Agus Cahyono       </td><td>Pria  </td><td>48</td><td>Professional</td><td>Cluster</td><td> 5286429</td></tr>\n",
       "\t<tr><th scope=row>4</th><td>CUST-004</td><td>Antonius Winarta   </td><td>Pria  </td><td>53</td><td>Professional</td><td>Cluster</td><td> 5204498</td></tr>\n",
       "\t<tr><th scope=row>5</th><td>CUST-005</td><td>Ibu Sri Wahyuni, IR</td><td>Wanita</td><td>41</td><td>Wiraswasta  </td><td>Cluster</td><td>10615206</td></tr>\n",
       "\t<tr><th scope=row>6</th><td>CUST-006</td><td>Rosalina Kurnia    </td><td>Wanita</td><td>24</td><td>Professional</td><td>Cluster</td><td> 5215541</td></tr>\n",
       "</tbody>\n",
       "</table>\n"
      ],
      "text/latex": [
       "A data.frame: 6 × 7\n",
       "\\begin{tabular}{r|lllllll}\n",
       "  & Customer\\_ID & Nama.Pelanggan & Jenis.Kelamin & Umur & Profesi & Tipe.Residen & NilaiBelanjaSetahun\\\\\n",
       "  & <fct> & <fct> & <fct> & <int> & <fct> & <fct> & <int>\\\\\n",
       "\\hline\n",
       "\t1 & CUST-001 & Budi Anggara        & Pria   & 58 & Wiraswasta   & Sector  &  9497927\\\\\n",
       "\t2 & CUST-002 & Shirley Ratuwati    & Wanita & 14 & Pelajar      & Cluster &  2722700\\\\\n",
       "\t3 & CUST-003 & Agus Cahyono        & Pria   & 48 & Professional & Cluster &  5286429\\\\\n",
       "\t4 & CUST-004 & Antonius Winarta    & Pria   & 53 & Professional & Cluster &  5204498\\\\\n",
       "\t5 & CUST-005 & Ibu Sri Wahyuni, IR & Wanita & 41 & Wiraswasta   & Cluster & 10615206\\\\\n",
       "\t6 & CUST-006 & Rosalina Kurnia     & Wanita & 24 & Professional & Cluster &  5215541\\\\\n",
       "\\end{tabular}\n"
      ],
      "text/markdown": [
       "\n",
       "A data.frame: 6 × 7\n",
       "\n",
       "| <!--/--> | Customer_ID &lt;fct&gt; | Nama.Pelanggan &lt;fct&gt; | Jenis.Kelamin &lt;fct&gt; | Umur &lt;int&gt; | Profesi &lt;fct&gt; | Tipe.Residen &lt;fct&gt; | NilaiBelanjaSetahun &lt;int&gt; |\n",
       "|---|---|---|---|---|---|---|---|\n",
       "| 1 | CUST-001 | Budi Anggara        | Pria   | 58 | Wiraswasta   | Sector  |  9497927 |\n",
       "| 2 | CUST-002 | Shirley Ratuwati    | Wanita | 14 | Pelajar      | Cluster |  2722700 |\n",
       "| 3 | CUST-003 | Agus Cahyono        | Pria   | 48 | Professional | Cluster |  5286429 |\n",
       "| 4 | CUST-004 | Antonius Winarta    | Pria   | 53 | Professional | Cluster |  5204498 |\n",
       "| 5 | CUST-005 | Ibu Sri Wahyuni, IR | Wanita | 41 | Wiraswasta   | Cluster | 10615206 |\n",
       "| 6 | CUST-006 | Rosalina Kurnia     | Wanita | 24 | Professional | Cluster |  5215541 |\n",
       "\n"
      ],
      "text/plain": [
       "  Customer_ID Nama.Pelanggan      Jenis.Kelamin Umur Profesi      Tipe.Residen\n",
       "1 CUST-001    Budi Anggara        Pria          58   Wiraswasta   Sector      \n",
       "2 CUST-002    Shirley Ratuwati    Wanita        14   Pelajar      Cluster     \n",
       "3 CUST-003    Agus Cahyono        Pria          48   Professional Cluster     \n",
       "4 CUST-004    Antonius Winarta    Pria          53   Professional Cluster     \n",
       "5 CUST-005    Ibu Sri Wahyuni, IR Wanita        41   Wiraswasta   Cluster     \n",
       "6 CUST-006    Rosalina Kurnia     Wanita        24   Professional Cluster     \n",
       "  NilaiBelanjaSetahun\n",
       "1  9497927           \n",
       "2  2722700           \n",
       "3  5286429           \n",
       "4  5204498           \n",
       "5 10615206           \n",
       "6  5215541           "
      ]
     },
     "metadata": {},
     "output_type": "display_data"
    }
   ],
   "source": [
    "#lalu kita mengimport dataset, kali ini saya meminjam dataset dari DQLab Academy\n",
    "pelanggan <- read.csv(\"https://academy.dqlab.id/dataset/customer_segments.txt\", sep=\"\\t\")\n",
    "head(pelanggan)"
   ]
  },
  {
   "cell_type": "code",
   "execution_count": 3,
   "metadata": {},
   "outputs": [
    {
     "name": "stdout",
     "output_type": "stream",
     "text": [
      "'data.frame':\t50 obs. of  7 variables:\n",
      " $ Customer_ID        : Factor w/ 50 levels \"CUST-001\",\"CUST-002\",..: 1 2 3 4 5 6 7 8 9 10 ...\n",
      " $ Nama.Pelanggan     : Factor w/ 48 levels \"Adeline Huang\",..: 7 44 3 5 23 41 9 13 17 33 ...\n",
      " $ Jenis.Kelamin      : Factor w/ 2 levels \"Pria\",\"Wanita\": 1 2 1 1 2 2 1 1 2 1 ...\n",
      " $ Umur               : int  58 14 48 53 41 24 64 52 29 33 ...\n",
      " $ Profesi            : Factor w/ 5 levels \"Ibu Rumah Tangga\",..: 5 3 4 4 5 4 5 4 4 4 ...\n",
      " $ Tipe.Residen       : Factor w/ 2 levels \"Cluster\",\"Sector\": 2 1 1 1 1 1 2 1 2 1 ...\n",
      " $ NilaiBelanjaSetahun: int  9497927 2722700 5286429 5204498 10615206 5215541 9837260 5223569 5993218 5257448 ...\n"
     ]
    }
   ],
   "source": [
    "#lihat sedikit terhadap data kita\n",
    "str(pelanggan)"
   ]
  },
  {
   "cell_type": "code",
   "execution_count": 4,
   "metadata": {},
   "outputs": [
    {
     "data": {
      "text/html": [
       "<table>\n",
       "<caption>A data.frame: 6 × 3</caption>\n",
       "<thead>\n",
       "\t<tr><th></th><th scope=col>Jenis.Kelamin</th><th scope=col>Tipe.Residen</th><th scope=col>Profesi</th></tr>\n",
       "\t<tr><th></th><th scope=col>&lt;fct&gt;</th><th scope=col>&lt;fct&gt;</th><th scope=col>&lt;fct&gt;</th></tr>\n",
       "</thead>\n",
       "<tbody>\n",
       "\t<tr><th scope=row>1</th><td>Pria  </td><td>Sector </td><td>Wiraswasta  </td></tr>\n",
       "\t<tr><th scope=row>2</th><td>Wanita</td><td>Cluster</td><td>Pelajar     </td></tr>\n",
       "\t<tr><th scope=row>3</th><td>Pria  </td><td>Cluster</td><td>Professional</td></tr>\n",
       "\t<tr><th scope=row>4</th><td>Pria  </td><td>Cluster</td><td>Professional</td></tr>\n",
       "\t<tr><th scope=row>5</th><td>Wanita</td><td>Cluster</td><td>Wiraswasta  </td></tr>\n",
       "\t<tr><th scope=row>6</th><td>Wanita</td><td>Cluster</td><td>Professional</td></tr>\n",
       "</tbody>\n",
       "</table>\n"
      ],
      "text/latex": [
       "A data.frame: 6 × 3\n",
       "\\begin{tabular}{r|lll}\n",
       "  & Jenis.Kelamin & Tipe.Residen & Profesi\\\\\n",
       "  & <fct> & <fct> & <fct>\\\\\n",
       "\\hline\n",
       "\t1 & Pria   & Sector  & Wiraswasta  \\\\\n",
       "\t2 & Wanita & Cluster & Pelajar     \\\\\n",
       "\t3 & Pria   & Cluster & Professional\\\\\n",
       "\t4 & Pria   & Cluster & Professional\\\\\n",
       "\t5 & Wanita & Cluster & Wiraswasta  \\\\\n",
       "\t6 & Wanita & Cluster & Professional\\\\\n",
       "\\end{tabular}\n"
      ],
      "text/markdown": [
       "\n",
       "A data.frame: 6 × 3\n",
       "\n",
       "| <!--/--> | Jenis.Kelamin &lt;fct&gt; | Tipe.Residen &lt;fct&gt; | Profesi &lt;fct&gt; |\n",
       "|---|---|---|---|\n",
       "| 1 | Pria   | Sector  | Wiraswasta   |\n",
       "| 2 | Wanita | Cluster | Pelajar      |\n",
       "| 3 | Pria   | Cluster | Professional |\n",
       "| 4 | Pria   | Cluster | Professional |\n",
       "| 5 | Wanita | Cluster | Wiraswasta   |\n",
       "| 6 | Wanita | Cluster | Professional |\n",
       "\n"
      ],
      "text/plain": [
       "  Jenis.Kelamin Tipe.Residen Profesi     \n",
       "1 Pria          Sector       Wiraswasta  \n",
       "2 Wanita        Cluster      Pelajar     \n",
       "3 Pria          Cluster      Professional\n",
       "4 Pria          Cluster      Professional\n",
       "5 Wanita        Cluster      Wiraswasta  \n",
       "6 Wanita        Cluster      Professional"
      ]
     },
     "metadata": {},
     "output_type": "display_data"
    }
   ],
   "source": [
    "#terlihat beberapa data yang nantinya akan sering kita pakai, masukkan kedalam variable \n",
    "field_yang_digunakan <- c(\"Jenis.Kelamin\",\"Tipe.Residen\",\"Profesi\")\n",
    "head(pelanggan[field_yang_digunakan])"
   ]
  },
  {
   "cell_type": "code",
   "execution_count": 5,
   "metadata": {},
   "outputs": [],
   "source": [
    "#data tersebut adalah data bertipe string yang tidak akan bisa dibaca oleh algoritma, ubah menjadi integer\n",
    "pelanggan_matrix <- data.matrix(pelanggan[field_yang_digunakan])"
   ]
  },
  {
   "cell_type": "code",
   "execution_count": 6,
   "metadata": {},
   "outputs": [
    {
     "data": {
      "text/html": [
       "<table>\n",
       "<caption>A data.frame: 6 × 10</caption>\n",
       "<thead>\n",
       "\t<tr><th></th><th scope=col>Customer_ID</th><th scope=col>Nama.Pelanggan</th><th scope=col>Jenis.Kelamin</th><th scope=col>Umur</th><th scope=col>Profesi</th><th scope=col>Tipe.Residen</th><th scope=col>NilaiBelanjaSetahun</th><th scope=col>Jenis.Kelamin.1</th><th scope=col>Tipe.Residen.1</th><th scope=col>Profesi.1</th></tr>\n",
       "\t<tr><th></th><th scope=col>&lt;fct&gt;</th><th scope=col>&lt;fct&gt;</th><th scope=col>&lt;fct&gt;</th><th scope=col>&lt;int&gt;</th><th scope=col>&lt;fct&gt;</th><th scope=col>&lt;fct&gt;</th><th scope=col>&lt;int&gt;</th><th scope=col>&lt;int&gt;</th><th scope=col>&lt;int&gt;</th><th scope=col>&lt;int&gt;</th></tr>\n",
       "</thead>\n",
       "<tbody>\n",
       "\t<tr><th scope=row>1</th><td>CUST-001</td><td>Budi Anggara       </td><td>Pria  </td><td>58</td><td>Wiraswasta  </td><td>Sector </td><td> 9497927</td><td>1</td><td>2</td><td>5</td></tr>\n",
       "\t<tr><th scope=row>2</th><td>CUST-002</td><td>Shirley Ratuwati   </td><td>Wanita</td><td>14</td><td>Pelajar     </td><td>Cluster</td><td> 2722700</td><td>2</td><td>1</td><td>3</td></tr>\n",
       "\t<tr><th scope=row>3</th><td>CUST-003</td><td>Agus Cahyono       </td><td>Pria  </td><td>48</td><td>Professional</td><td>Cluster</td><td> 5286429</td><td>1</td><td>1</td><td>4</td></tr>\n",
       "\t<tr><th scope=row>4</th><td>CUST-004</td><td>Antonius Winarta   </td><td>Pria  </td><td>53</td><td>Professional</td><td>Cluster</td><td> 5204498</td><td>1</td><td>1</td><td>4</td></tr>\n",
       "\t<tr><th scope=row>5</th><td>CUST-005</td><td>Ibu Sri Wahyuni, IR</td><td>Wanita</td><td>41</td><td>Wiraswasta  </td><td>Cluster</td><td>10615206</td><td>2</td><td>1</td><td>5</td></tr>\n",
       "\t<tr><th scope=row>6</th><td>CUST-006</td><td>Rosalina Kurnia    </td><td>Wanita</td><td>24</td><td>Professional</td><td>Cluster</td><td> 5215541</td><td>2</td><td>1</td><td>4</td></tr>\n",
       "</tbody>\n",
       "</table>\n"
      ],
      "text/latex": [
       "A data.frame: 6 × 10\n",
       "\\begin{tabular}{r|llllllllll}\n",
       "  & Customer\\_ID & Nama.Pelanggan & Jenis.Kelamin & Umur & Profesi & Tipe.Residen & NilaiBelanjaSetahun & Jenis.Kelamin.1 & Tipe.Residen.1 & Profesi.1\\\\\n",
       "  & <fct> & <fct> & <fct> & <int> & <fct> & <fct> & <int> & <int> & <int> & <int>\\\\\n",
       "\\hline\n",
       "\t1 & CUST-001 & Budi Anggara        & Pria   & 58 & Wiraswasta   & Sector  &  9497927 & 1 & 2 & 5\\\\\n",
       "\t2 & CUST-002 & Shirley Ratuwati    & Wanita & 14 & Pelajar      & Cluster &  2722700 & 2 & 1 & 3\\\\\n",
       "\t3 & CUST-003 & Agus Cahyono        & Pria   & 48 & Professional & Cluster &  5286429 & 1 & 1 & 4\\\\\n",
       "\t4 & CUST-004 & Antonius Winarta    & Pria   & 53 & Professional & Cluster &  5204498 & 1 & 1 & 4\\\\\n",
       "\t5 & CUST-005 & Ibu Sri Wahyuni, IR & Wanita & 41 & Wiraswasta   & Cluster & 10615206 & 2 & 1 & 5\\\\\n",
       "\t6 & CUST-006 & Rosalina Kurnia     & Wanita & 24 & Professional & Cluster &  5215541 & 2 & 1 & 4\\\\\n",
       "\\end{tabular}\n"
      ],
      "text/markdown": [
       "\n",
       "A data.frame: 6 × 10\n",
       "\n",
       "| <!--/--> | Customer_ID &lt;fct&gt; | Nama.Pelanggan &lt;fct&gt; | Jenis.Kelamin &lt;fct&gt; | Umur &lt;int&gt; | Profesi &lt;fct&gt; | Tipe.Residen &lt;fct&gt; | NilaiBelanjaSetahun &lt;int&gt; | Jenis.Kelamin.1 &lt;int&gt; | Tipe.Residen.1 &lt;int&gt; | Profesi.1 &lt;int&gt; |\n",
       "|---|---|---|---|---|---|---|---|---|---|---|\n",
       "| 1 | CUST-001 | Budi Anggara        | Pria   | 58 | Wiraswasta   | Sector  |  9497927 | 1 | 2 | 5 |\n",
       "| 2 | CUST-002 | Shirley Ratuwati    | Wanita | 14 | Pelajar      | Cluster |  2722700 | 2 | 1 | 3 |\n",
       "| 3 | CUST-003 | Agus Cahyono        | Pria   | 48 | Professional | Cluster |  5286429 | 1 | 1 | 4 |\n",
       "| 4 | CUST-004 | Antonius Winarta    | Pria   | 53 | Professional | Cluster |  5204498 | 1 | 1 | 4 |\n",
       "| 5 | CUST-005 | Ibu Sri Wahyuni, IR | Wanita | 41 | Wiraswasta   | Cluster | 10615206 | 2 | 1 | 5 |\n",
       "| 6 | CUST-006 | Rosalina Kurnia     | Wanita | 24 | Professional | Cluster |  5215541 | 2 | 1 | 4 |\n",
       "\n"
      ],
      "text/plain": [
       "  Customer_ID Nama.Pelanggan      Jenis.Kelamin Umur Profesi      Tipe.Residen\n",
       "1 CUST-001    Budi Anggara        Pria          58   Wiraswasta   Sector      \n",
       "2 CUST-002    Shirley Ratuwati    Wanita        14   Pelajar      Cluster     \n",
       "3 CUST-003    Agus Cahyono        Pria          48   Professional Cluster     \n",
       "4 CUST-004    Antonius Winarta    Pria          53   Professional Cluster     \n",
       "5 CUST-005    Ibu Sri Wahyuni, IR Wanita        41   Wiraswasta   Cluster     \n",
       "6 CUST-006    Rosalina Kurnia     Wanita        24   Professional Cluster     \n",
       "  NilaiBelanjaSetahun Jenis.Kelamin.1 Tipe.Residen.1 Profesi.1\n",
       "1  9497927            1               2              5        \n",
       "2  2722700            2               1              3        \n",
       "3  5286429            1               1              4        \n",
       "4  5204498            1               1              4        \n",
       "5 10615206            2               1              5        \n",
       "6  5215541            2               1              4        "
      ]
     },
     "metadata": {},
     "output_type": "display_data"
    }
   ],
   "source": [
    "#gabungkan data matrix terhadap data asli\n",
    "pelanggan <- data.frame(pelanggan, pelanggan_matrix)\n",
    "head(pelanggan)"
   ]
  },
  {
   "cell_type": "code",
   "execution_count": 7,
   "metadata": {},
   "outputs": [],
   "source": [
    "#cari tahu berapa saja nilai yang sudah di konvert ke matrix, lalu masukkan kedalam variable\n",
    "Profesi <- unique(pelanggan[c(\"Profesi\",\"Profesi.1\")])\n",
    "Tipe.Residen <- unique(pelanggan[c(\"Tipe.Residen\",\"Tipe.Residen.1\")])\n",
    "Jenis.Kelamin <- unique(pelanggan[c(\"Jenis.Kelamin\",\"Jenis.Kelamin.1\")])"
   ]
  },
  {
   "cell_type": "code",
   "execution_count": 8,
   "metadata": {},
   "outputs": [
    {
     "data": {
      "text/html": [
       "<table>\n",
       "<caption>A data.frame: 5 × 2</caption>\n",
       "<thead>\n",
       "\t<tr><th></th><th scope=col>Profesi</th><th scope=col>Profesi.1</th></tr>\n",
       "\t<tr><th></th><th scope=col>&lt;fct&gt;</th><th scope=col>&lt;int&gt;</th></tr>\n",
       "</thead>\n",
       "<tbody>\n",
       "\t<tr><th scope=row>1</th><td>Wiraswasta      </td><td>5</td></tr>\n",
       "\t<tr><th scope=row>2</th><td>Pelajar         </td><td>3</td></tr>\n",
       "\t<tr><th scope=row>3</th><td>Professional    </td><td>4</td></tr>\n",
       "\t<tr><th scope=row>17</th><td>Ibu Rumah Tangga</td><td>1</td></tr>\n",
       "\t<tr><th scope=row>31</th><td>Mahasiswa       </td><td>2</td></tr>\n",
       "</tbody>\n",
       "</table>\n"
      ],
      "text/latex": [
       "A data.frame: 5 × 2\n",
       "\\begin{tabular}{r|ll}\n",
       "  & Profesi & Profesi.1\\\\\n",
       "  & <fct> & <int>\\\\\n",
       "\\hline\n",
       "\t1 & Wiraswasta       & 5\\\\\n",
       "\t2 & Pelajar          & 3\\\\\n",
       "\t3 & Professional     & 4\\\\\n",
       "\t17 & Ibu Rumah Tangga & 1\\\\\n",
       "\t31 & Mahasiswa        & 2\\\\\n",
       "\\end{tabular}\n"
      ],
      "text/markdown": [
       "\n",
       "A data.frame: 5 × 2\n",
       "\n",
       "| <!--/--> | Profesi &lt;fct&gt; | Profesi.1 &lt;int&gt; |\n",
       "|---|---|---|\n",
       "| 1 | Wiraswasta       | 5 |\n",
       "| 2 | Pelajar          | 3 |\n",
       "| 3 | Professional     | 4 |\n",
       "| 17 | Ibu Rumah Tangga | 1 |\n",
       "| 31 | Mahasiswa        | 2 |\n",
       "\n"
      ],
      "text/plain": [
       "   Profesi          Profesi.1\n",
       "1  Wiraswasta       5        \n",
       "2  Pelajar          3        \n",
       "3  Professional     4        \n",
       "17 Ibu Rumah Tangga 1        \n",
       "31 Mahasiswa        2        "
      ]
     },
     "metadata": {},
     "output_type": "display_data"
    },
    {
     "data": {
      "text/html": [
       "<table>\n",
       "<caption>A data.frame: 2 × 2</caption>\n",
       "<thead>\n",
       "\t<tr><th></th><th scope=col>Tipe.Residen</th><th scope=col>Tipe.Residen.1</th></tr>\n",
       "\t<tr><th></th><th scope=col>&lt;fct&gt;</th><th scope=col>&lt;int&gt;</th></tr>\n",
       "</thead>\n",
       "<tbody>\n",
       "\t<tr><th scope=row>1</th><td>Sector </td><td>2</td></tr>\n",
       "\t<tr><th scope=row>2</th><td>Cluster</td><td>1</td></tr>\n",
       "</tbody>\n",
       "</table>\n"
      ],
      "text/latex": [
       "A data.frame: 2 × 2\n",
       "\\begin{tabular}{r|ll}\n",
       "  & Tipe.Residen & Tipe.Residen.1\\\\\n",
       "  & <fct> & <int>\\\\\n",
       "\\hline\n",
       "\t1 & Sector  & 2\\\\\n",
       "\t2 & Cluster & 1\\\\\n",
       "\\end{tabular}\n"
      ],
      "text/markdown": [
       "\n",
       "A data.frame: 2 × 2\n",
       "\n",
       "| <!--/--> | Tipe.Residen &lt;fct&gt; | Tipe.Residen.1 &lt;int&gt; |\n",
       "|---|---|---|\n",
       "| 1 | Sector  | 2 |\n",
       "| 2 | Cluster | 1 |\n",
       "\n"
      ],
      "text/plain": [
       "  Tipe.Residen Tipe.Residen.1\n",
       "1 Sector       2             \n",
       "2 Cluster      1             "
      ]
     },
     "metadata": {},
     "output_type": "display_data"
    },
    {
     "data": {
      "text/html": [
       "<table>\n",
       "<caption>A data.frame: 2 × 2</caption>\n",
       "<thead>\n",
       "\t<tr><th></th><th scope=col>Jenis.Kelamin</th><th scope=col>Jenis.Kelamin.1</th></tr>\n",
       "\t<tr><th></th><th scope=col>&lt;fct&gt;</th><th scope=col>&lt;int&gt;</th></tr>\n",
       "</thead>\n",
       "<tbody>\n",
       "\t<tr><th scope=row>1</th><td>Pria  </td><td>1</td></tr>\n",
       "\t<tr><th scope=row>2</th><td>Wanita</td><td>2</td></tr>\n",
       "</tbody>\n",
       "</table>\n"
      ],
      "text/latex": [
       "A data.frame: 2 × 2\n",
       "\\begin{tabular}{r|ll}\n",
       "  & Jenis.Kelamin & Jenis.Kelamin.1\\\\\n",
       "  & <fct> & <int>\\\\\n",
       "\\hline\n",
       "\t1 & Pria   & 1\\\\\n",
       "\t2 & Wanita & 2\\\\\n",
       "\\end{tabular}\n"
      ],
      "text/markdown": [
       "\n",
       "A data.frame: 2 × 2\n",
       "\n",
       "| <!--/--> | Jenis.Kelamin &lt;fct&gt; | Jenis.Kelamin.1 &lt;int&gt; |\n",
       "|---|---|---|\n",
       "| 1 | Pria   | 1 |\n",
       "| 2 | Wanita | 2 |\n",
       "\n"
      ],
      "text/plain": [
       "  Jenis.Kelamin Jenis.Kelamin.1\n",
       "1 Pria          1              \n",
       "2 Wanita        2              "
      ]
     },
     "metadata": {},
     "output_type": "display_data"
    }
   ],
   "source": [
    "Profesi\n",
    "Tipe.Residen\n",
    "Jenis.Kelamin"
   ]
  },
  {
   "cell_type": "code",
   "execution_count": 9,
   "metadata": {},
   "outputs": [],
   "source": [
    "#Terlihat angka nilai belanja terlalu besar, mari kita normalisasikan\n",
    "pelanggan$NilaiBelanjaSetahun <- pelanggan$NilaiBelanjaSetahun/1000000"
   ]
  },
  {
   "cell_type": "code",
   "execution_count": 10,
   "metadata": {},
   "outputs": [],
   "source": [
    "#model sudah siap untuk kita operasikan pada algoritma kmeans\n",
    "#setel set.seed untuk penyeragaman daftar nilai acak, ini biasa dilakukan pada algoritma kmeans\n",
    "set.seed(100)"
   ]
  },
  {
   "cell_type": "code",
   "execution_count": 11,
   "metadata": {},
   "outputs": [],
   "source": [
    "#buat variable untuk field yang akan kita gunakan\n",
    "field_yang_digunakan <- c(\"Jenis.Kelamin.1\", \"Umur\", \"Profesi.1\", \"Tipe.Residen.1\",\"NilaiBelanjaSetahun\")"
   ]
  },
  {
   "cell_type": "code",
   "execution_count": 12,
   "metadata": {},
   "outputs": [
    {
     "data": {
      "image/png": "[encoded data removed]",
      "text/plain": [
       "plot without title"
      ]
     },
     "metadata": {
      "image/png": {
       "height": 420,
       "width": 420
      },
      "text/plain": {
       "height": 420,
       "width": 420
      }
     },
     "output_type": "display_data"
    }
   ],
   "source": [
    "#sebelum kita mengaplikasikan model, kita butuh mencari parameter terbaik\n",
    "sse <- sapply(1:10, function(param_k){kmeans(pelanggan[field_yang_digunakan], param_k, nstart=25)$tot.withinss})\n",
    "\n",
    "jumlah_cluster_max <- 10\n",
    "ssdata <- data.frame(cluster=c(1:jumlah_cluster_max),sse)\n",
    "ggplot(ssdata, aes(x=cluster,y=sse)) + \n",
    "  geom_line(color=\"red\") + geom_point() + \n",
    "  ylab(\"Within Cluster Sum of Squares\") + xlab(\"Jumlah Cluster\") +\n",
    "  geom_text(aes(label=format(round(sse, 2), nsmall = 2)),hjust=-0.2, vjust=-0.5)"
   ]
  },
  {
   "cell_type": "markdown",
   "metadata": {},
   "source": [
    "#### Terlihat bahwa titik elbow ada di cluster ke 3, maka kita buat jumlah cluster kita menjadi 3"
   ]
  },
  {
   "cell_type": "code",
   "execution_count": 13,
   "metadata": {},
   "outputs": [
    {
     "data": {
      "text/plain": [
       "K-means clustering with 3 clusters of sizes 15, 16, 19\n",
       "\n",
       "Cluster means:\n",
       "  Jenis.Kelamin.1     Umur Profesi.1 Tipe.Residen.1 NilaiBelanjaSetahun\n",
       "1        2.000000 20.46667  3.666667       1.333333            6.166391\n",
       "2        1.812500 34.37500  3.875000       1.250000            7.548875\n",
       "3        1.684211 53.57895  3.947368       1.473684            7.379783\n",
       "\n",
       "Clustering vector:\n",
       " [1] 3 1 3 3 2 1 3 3 2 2 3 3 3 3 1 2 2 3 2 1 2 3 2 2 2 3 2 2 3 3 1 3 1 1 2 2 1 3\n",
       "[39] 1 1 1 1 2 1 1 1 3 3 2 3\n",
       "\n",
       "Within cluster sum of squares by cluster:\n",
       "[1] 366.3430 359.4961 825.0333\n",
       " (between_SS / total_SS =  85.9 %)\n",
       "\n",
       "Available components:\n",
       "\n",
       "[1] \"cluster\"      \"centers\"      \"totss\"        \"withinss\"     \"tot.withinss\"\n",
       "[6] \"betweenss\"    \"size\"         \"iter\"         \"ifault\"      "
      ]
     },
     "metadata": {},
     "output_type": "display_data"
    }
   ],
   "source": [
    "segmentasi <- kmeans(x=pelanggan[field_yang_digunakan], centers=3, nstart=25)\n",
    "segmentasi"
   ]
  },
  {
   "cell_type": "code",
   "execution_count": 14,
   "metadata": {},
   "outputs": [],
   "source": [
    "#masukkan hasil cluster ke dalam dataframe\n",
    "pelanggan$cluster <- segmentasi$cluster"
   ]
  },
  {
   "cell_type": "code",
   "execution_count": 15,
   "metadata": {},
   "outputs": [
    {
     "data": {
      "text/html": [
       "<table>\n",
       "<caption>A data.frame: 16 × 11</caption>\n",
       "<thead>\n",
       "\t<tr><th></th><th scope=col>Customer_ID</th><th scope=col>Nama.Pelanggan</th><th scope=col>Jenis.Kelamin</th><th scope=col>Umur</th><th scope=col>Profesi</th><th scope=col>Tipe.Residen</th><th scope=col>NilaiBelanjaSetahun</th><th scope=col>Jenis.Kelamin.1</th><th scope=col>Tipe.Residen.1</th><th scope=col>Profesi.1</th><th scope=col>cluster</th></tr>\n",
       "\t<tr><th></th><th scope=col>&lt;fct&gt;</th><th scope=col>&lt;fct&gt;</th><th scope=col>&lt;fct&gt;</th><th scope=col>&lt;int&gt;</th><th scope=col>&lt;fct&gt;</th><th scope=col>&lt;fct&gt;</th><th scope=col>&lt;dbl&gt;</th><th scope=col>&lt;int&gt;</th><th scope=col>&lt;int&gt;</th><th scope=col>&lt;int&gt;</th><th scope=col>&lt;int&gt;</th></tr>\n",
       "</thead>\n",
       "<tbody>\n",
       "\t<tr><th scope=row>5</th><td>CUST-005</td><td>Ibu Sri Wahyuni, IR  </td><td>Wanita</td><td>41</td><td>Wiraswasta      </td><td>Cluster</td><td>10.615206</td><td>2</td><td>1</td><td>5</td><td>2</td></tr>\n",
       "\t<tr><th scope=row>9</th><td>CUST-009</td><td>Elisabeth Suryadinata</td><td>Wanita</td><td>29</td><td>Professional    </td><td>Sector </td><td> 5.993218</td><td>2</td><td>2</td><td>4</td><td>2</td></tr>\n",
       "\t<tr><th scope=row>10</th><td>CUST-010</td><td>Mario Setiawan       </td><td>Pria  </td><td>33</td><td>Professional    </td><td>Cluster</td><td> 5.257448</td><td>1</td><td>1</td><td>4</td><td>2</td></tr>\n",
       "\t<tr><th scope=row>16</th><td>CUST-016</td><td>Bambang Rudi         </td><td>Pria  </td><td>35</td><td>Professional    </td><td>Cluster</td><td> 5.262521</td><td>1</td><td>1</td><td>4</td><td>2</td></tr>\n",
       "\t<tr><th scope=row>17</th><td>CUST-017</td><td>Yuni Sari            </td><td>Wanita</td><td>32</td><td>Ibu Rumah Tangga</td><td>Cluster</td><td> 5.677762</td><td>2</td><td>1</td><td>1</td><td>2</td></tr>\n",
       "\t<tr><th scope=row>19</th><td>CUST-019</td><td>Mega Pranoto         </td><td>Wanita</td><td>32</td><td>Wiraswasta      </td><td>Cluster</td><td>10.884508</td><td>2</td><td>1</td><td>5</td><td>2</td></tr>\n",
       "\t<tr><th scope=row>21</th><td>CUST-021</td><td>Lestari Fabianto     </td><td>Wanita</td><td>38</td><td>Wiraswasta      </td><td>Cluster</td><td> 9.222070</td><td>2</td><td>1</td><td>5</td><td>2</td></tr>\n",
       "\t<tr><th scope=row>23</th><td>CUST-023</td><td>Denny Amiruddin      </td><td>Pria  </td><td>34</td><td>Professional    </td><td>Cluster</td><td> 5.239290</td><td>1</td><td>1</td><td>4</td><td>2</td></tr>\n",
       "\t<tr><th scope=row>24</th><td>CUST-024</td><td>Putri Ginting        </td><td>Wanita</td><td>39</td><td>Wiraswasta      </td><td>Cluster</td><td>10.259572</td><td>2</td><td>1</td><td>5</td><td>2</td></tr>\n",
       "\t<tr><th scope=row>25</th><td>CUST-025</td><td>Julia Setiawan       </td><td>Wanita</td><td>29</td><td>Wiraswasta      </td><td>Sector </td><td>10.721998</td><td>2</td><td>2</td><td>5</td><td>2</td></tr>\n",
       "\t<tr><th scope=row>27</th><td>CUST-027</td><td>Grace Mulyati        </td><td>Wanita</td><td>35</td><td>Wiraswasta      </td><td>Cluster</td><td> 9.114159</td><td>2</td><td>1</td><td>5</td><td>2</td></tr>\n",
       "\t<tr><th scope=row>28</th><td>CUST-028</td><td>Adeline Huang        </td><td>Wanita</td><td>40</td><td>Ibu Rumah Tangga</td><td>Cluster</td><td> 6.631680</td><td>2</td><td>1</td><td>1</td><td>2</td></tr>\n",
       "\t<tr><th scope=row>35</th><td>CUST-035</td><td>Ida Ayu              </td><td>Wanita</td><td>39</td><td>Professional    </td><td>Sector </td><td> 5.962575</td><td>2</td><td>2</td><td>4</td><td>2</td></tr>\n",
       "\t<tr><th scope=row>36</th><td>CUST-036</td><td>Ni Made Suasti       </td><td>Wanita</td><td>30</td><td>Wiraswasta      </td><td>Cluster</td><td> 9.678994</td><td>2</td><td>1</td><td>5</td><td>2</td></tr>\n",
       "\t<tr><th scope=row>43</th><td>CUST-043</td><td>Yenna Sumadi         </td><td>Wanita</td><td>31</td><td>Professional    </td><td>Cluster</td><td> 5.268410</td><td>2</td><td>1</td><td>4</td><td>2</td></tr>\n",
       "\t<tr><th scope=row>49</th><td>CUST-049</td><td>Josephine Wahab      </td><td>Wanita</td><td>33</td><td>Ibu Rumah Tangga</td><td>Sector </td><td> 4.992585</td><td>2</td><td>2</td><td>1</td><td>2</td></tr>\n",
       "</tbody>\n",
       "</table>\n"
      ],
      "text/latex": [
       "A data.frame: 16 × 11\n",
       "\\begin{tabular}{r|lllllllllll}\n",
       "  & Customer\\_ID & Nama.Pelanggan & Jenis.Kelamin & Umur & Profesi & Tipe.Residen & NilaiBelanjaSetahun & Jenis.Kelamin.1 & Tipe.Residen.1 & Profesi.1 & cluster\\\\\n",
       "  & <fct> & <fct> & <fct> & <int> & <fct> & <fct> & <dbl> & <int> & <int> & <int> & <int>\\\\\n",
       "\\hline\n",
       "\t5 & CUST-005 & Ibu Sri Wahyuni, IR   & Wanita & 41 & Wiraswasta       & Cluster & 10.615206 & 2 & 1 & 5 & 2\\\\\n",
       "\t9 & CUST-009 & Elisabeth Suryadinata & Wanita & 29 & Professional     & Sector  &  5.993218 & 2 & 2 & 4 & 2\\\\\n",
       "\t10 & CUST-010 & Mario Setiawan        & Pria   & 33 & Professional     & Cluster &  5.257448 & 1 & 1 & 4 & 2\\\\\n",
       "\t16 & CUST-016 & Bambang Rudi          & Pria   & 35 & Professional     & Cluster &  5.262521 & 1 & 1 & 4 & 2\\\\\n",
       "\t17 & CUST-017 & Yuni Sari             & Wanita & 32 & Ibu Rumah Tangga & Cluster &  5.677762 & 2 & 1 & 1 & 2\\\\\n",
       "\t19 & CUST-019 & Mega Pranoto          & Wanita & 32 & Wiraswasta       & Cluster & 10.884508 & 2 & 1 & 5 & 2\\\\\n",
       "\t21 & CUST-021 & Lestari Fabianto      & Wanita & 38 & Wiraswasta       & Cluster &  9.222070 & 2 & 1 & 5 & 2\\\\\n",
       "\t23 & CUST-023 & Denny Amiruddin       & Pria   & 34 & Professional     & Cluster &  5.239290 & 1 & 1 & 4 & 2\\\\\n",
       "\t24 & CUST-024 & Putri Ginting         & Wanita & 39 & Wiraswasta       & Cluster & 10.259572 & 2 & 1 & 5 & 2\\\\\n",
       "\t25 & CUST-025 & Julia Setiawan        & Wanita & 29 & Wiraswasta       & Sector  & 10.721998 & 2 & 2 & 5 & 2\\\\\n",
       "\t27 & CUST-027 & Grace Mulyati         & Wanita & 35 & Wiraswasta       & Cluster &  9.114159 & 2 & 1 & 5 & 2\\\\\n",
       "\t28 & CUST-028 & Adeline Huang         & Wanita & 40 & Ibu Rumah Tangga & Cluster &  6.631680 & 2 & 1 & 1 & 2\\\\\n",
       "\t35 & CUST-035 & Ida Ayu               & Wanita & 39 & Professional     & Sector  &  5.962575 & 2 & 2 & 4 & 2\\\\\n",
       "\t36 & CUST-036 & Ni Made Suasti        & Wanita & 30 & Wiraswasta       & Cluster &  9.678994 & 2 & 1 & 5 & 2\\\\\n",
       "\t43 & CUST-043 & Yenna Sumadi          & Wanita & 31 & Professional     & Cluster &  5.268410 & 2 & 1 & 4 & 2\\\\\n",
       "\t49 & CUST-049 & Josephine Wahab       & Wanita & 33 & Ibu Rumah Tangga & Sector  &  4.992585 & 2 & 2 & 1 & 2\\\\\n",
       "\\end{tabular}\n"
      ],
      "text/markdown": [
       "\n",
       "A data.frame: 16 × 11\n",
       "\n",
       "| <!--/--> | Customer_ID &lt;fct&gt; | Nama.Pelanggan &lt;fct&gt; | Jenis.Kelamin &lt;fct&gt; | Umur &lt;int&gt; | Profesi &lt;fct&gt; | Tipe.Residen &lt;fct&gt; | NilaiBelanjaSetahun &lt;dbl&gt; | Jenis.Kelamin.1 &lt;int&gt; | Tipe.Residen.1 &lt;int&gt; | Profesi.1 &lt;int&gt; | cluster &lt;int&gt; |\n",
       "|---|---|---|---|---|---|---|---|---|---|---|---|\n",
       "| 5 | CUST-005 | Ibu Sri Wahyuni, IR   | Wanita | 41 | Wiraswasta       | Cluster | 10.615206 | 2 | 1 | 5 | 2 |\n",
       "| 9 | CUST-009 | Elisabeth Suryadinata | Wanita | 29 | Professional     | Sector  |  5.993218 | 2 | 2 | 4 | 2 |\n",
       "| 10 | CUST-010 | Mario Setiawan        | Pria   | 33 | Professional     | Cluster |  5.257448 | 1 | 1 | 4 | 2 |\n",
       "| 16 | CUST-016 | Bambang Rudi          | Pria   | 35 | Professional     | Cluster |  5.262521 | 1 | 1 | 4 | 2 |\n",
       "| 17 | CUST-017 | Yuni Sari             | Wanita | 32 | Ibu Rumah Tangga | Cluster |  5.677762 | 2 | 1 | 1 | 2 |\n",
       "| 19 | CUST-019 | Mega Pranoto          | Wanita | 32 | Wiraswasta       | Cluster | 10.884508 | 2 | 1 | 5 | 2 |\n",
       "| 21 | CUST-021 | Lestari Fabianto      | Wanita | 38 | Wiraswasta       | Cluster |  9.222070 | 2 | 1 | 5 | 2 |\n",
       "| 23 | CUST-023 | Denny Amiruddin       | Pria   | 34 | Professional     | Cluster |  5.239290 | 1 | 1 | 4 | 2 |\n",
       "| 24 | CUST-024 | Putri Ginting         | Wanita | 39 | Wiraswasta       | Cluster | 10.259572 | 2 | 1 | 5 | 2 |\n",
       "| 25 | CUST-025 | Julia Setiawan        | Wanita | 29 | Wiraswasta       | Sector  | 10.721998 | 2 | 2 | 5 | 2 |\n",
       "| 27 | CUST-027 | Grace Mulyati         | Wanita | 35 | Wiraswasta       | Cluster |  9.114159 | 2 | 1 | 5 | 2 |\n",
       "| 28 | CUST-028 | Adeline Huang         | Wanita | 40 | Ibu Rumah Tangga | Cluster |  6.631680 | 2 | 1 | 1 | 2 |\n",
       "| 35 | CUST-035 | Ida Ayu               | Wanita | 39 | Professional     | Sector  |  5.962575 | 2 | 2 | 4 | 2 |\n",
       "| 36 | CUST-036 | Ni Made Suasti        | Wanita | 30 | Wiraswasta       | Cluster |  9.678994 | 2 | 1 | 5 | 2 |\n",
       "| 43 | CUST-043 | Yenna Sumadi          | Wanita | 31 | Professional     | Cluster |  5.268410 | 2 | 1 | 4 | 2 |\n",
       "| 49 | CUST-049 | Josephine Wahab       | Wanita | 33 | Ibu Rumah Tangga | Sector  |  4.992585 | 2 | 2 | 1 | 2 |\n",
       "\n"
      ],
      "text/plain": [
       "   Customer_ID Nama.Pelanggan        Jenis.Kelamin Umur Profesi         \n",
       "5  CUST-005    Ibu Sri Wahyuni, IR   Wanita        41   Wiraswasta      \n",
       "9  CUST-009    Elisabeth Suryadinata Wanita        29   Professional    \n",
       "10 CUST-010    Mario Setiawan        Pria          33   Professional    \n",
       "16 CUST-016    Bambang Rudi          Pria          35   Professional    \n",
       "17 CUST-017    Yuni Sari             Wanita        32   Ibu Rumah Tangga\n",
       "19 CUST-019    Mega Pranoto          Wanita        32   Wiraswasta      \n",
       "21 CUST-021    Lestari Fabianto      Wanita        38   Wiraswasta      \n",
       "23 CUST-023    Denny Amiruddin       Pria          34   Professional    \n",
       "24 CUST-024    Putri Ginting         Wanita        39   Wiraswasta      \n",
       "25 CUST-025    Julia Setiawan        Wanita        29   Wiraswasta      \n",
       "27 CUST-027    Grace Mulyati         Wanita        35   Wiraswasta      \n",
       "28 CUST-028    Adeline Huang         Wanita        40   Ibu Rumah Tangga\n",
       "35 CUST-035    Ida Ayu               Wanita        39   Professional    \n",
       "36 CUST-036    Ni Made Suasti        Wanita        30   Wiraswasta      \n",
       "43 CUST-043    Yenna Sumadi          Wanita        31   Professional    \n",
       "49 CUST-049    Josephine Wahab       Wanita        33   Ibu Rumah Tangga\n",
       "   Tipe.Residen NilaiBelanjaSetahun Jenis.Kelamin.1 Tipe.Residen.1 Profesi.1\n",
       "5  Cluster      10.615206           2               1              5        \n",
       "9  Sector        5.993218           2               2              4        \n",
       "10 Cluster       5.257448           1               1              4        \n",
       "16 Cluster       5.262521           1               1              4        \n",
       "17 Cluster       5.677762           2               1              1        \n",
       "19 Cluster      10.884508           2               1              5        \n",
       "21 Cluster       9.222070           2               1              5        \n",
       "23 Cluster       5.239290           1               1              4        \n",
       "24 Cluster      10.259572           2               1              5        \n",
       "25 Sector       10.721998           2               2              5        \n",
       "27 Cluster       9.114159           2               1              5        \n",
       "28 Cluster       6.631680           2               1              1        \n",
       "35 Sector        5.962575           2               2              4        \n",
       "36 Cluster       9.678994           2               1              5        \n",
       "43 Cluster       5.268410           2               1              4        \n",
       "49 Sector        4.992585           2               2              1        \n",
       "   cluster\n",
       "5  2      \n",
       "9  2      \n",
       "10 2      \n",
       "16 2      \n",
       "17 2      \n",
       "19 2      \n",
       "21 2      \n",
       "23 2      \n",
       "24 2      \n",
       "25 2      \n",
       "27 2      \n",
       "28 2      \n",
       "35 2      \n",
       "36 2      \n",
       "43 2      \n",
       "49 2      "
      ]
     },
     "metadata": {},
     "output_type": "display_data"
    }
   ],
   "source": [
    "#kita bisa menganalisa data segmentasi dengan memfilter data mana saja yang masuk ke dalam cluster ke-1,2, dst\n",
    "pelanggan[which(pelanggan$cluster == 2),]"
   ]
  },
  {
   "cell_type": "code",
   "execution_count": 16,
   "metadata": {},
   "outputs": [
    {
     "data": {
      "text/html": [
       "16"
      ],
      "text/latex": [
       "16"
      ],
      "text/markdown": [
       "16"
      ],
      "text/plain": [
       "[1] 16"
      ]
     },
     "metadata": {},
     "output_type": "display_data"
    }
   ],
   "source": [
    "#Menghitung banyaknya jumlah customer yang masuk ke dalam cluster(x)\n",
    "length(which(pelanggan$cluster == 2))"
   ]
  },
  {
   "cell_type": "code",
   "execution_count": 17,
   "metadata": {},
   "outputs": [],
   "source": [
    "#kita namakan tingkatan cluster kita\n",
    "Segmen.Pelanggan <- data.frame(cluster=c(1,2,3), Nama.Segmen=c(\"Gen.Z Woman\",\"Gen.Milenial Professional\",\"Gen.X Professional\"))"
   ]
  },
  {
   "cell_type": "code",
   "execution_count": 18,
   "metadata": {},
   "outputs": [],
   "source": [
    "#setelah selesai, kita gabungan semua referensi ke dalam bentuk list, \n",
    "#ini berfungsi jika kita ingin menyimpan file ke dalam bentuk RDS\n",
    "\n",
    "Identitas.Cluster <- list(Profesi=Profesi, \n",
    "                          Jenis.Kelamin=Jenis.Kelamin, \n",
    "                          Tipe.Residen=Tipe.Residen, \n",
    "                          Segmentasi=segmentasi, \n",
    "                          Segmen.Pelanggan=Segmen.Pelanggan, \n",
    "                          field_yang_digunakan=field_yang_digunakan)"
   ]
  },
  {
   "cell_type": "code",
   "execution_count": 19,
   "metadata": {},
   "outputs": [],
   "source": [
    "#model telah selesai belajar mari kita test dengan data baru\n",
    "databaru <- data.frame(Customer_ID=\"CUST-100\", \n",
    "                       Nama.Pelanggan=\"Raisya Wilamar\", \n",
    "                       Umur=20,\n",
    "                       Jenis.Kelamin=\"Wanita\",\n",
    "                       Profesi=\"Pelajar\",\n",
    "                       Tipe.Residen=\"Cluster\",\n",
    "                       NilaiBelanjaSetahun=3.5)"
   ]
  },
  {
   "cell_type": "code",
   "execution_count": 20,
   "metadata": {},
   "outputs": [
    {
     "data": {
      "text/html": [
       "<table>\n",
       "<caption>A data.frame: 1 × 10</caption>\n",
       "<thead>\n",
       "\t<tr><th scope=col>Tipe.Residen</th><th scope=col>Jenis.Kelamin</th><th scope=col>Profesi</th><th scope=col>Customer_ID</th><th scope=col>Nama.Pelanggan</th><th scope=col>Umur</th><th scope=col>NilaiBelanjaSetahun</th><th scope=col>Profesi.1</th><th scope=col>Jenis.Kelamin.1</th><th scope=col>Tipe.Residen.1</th></tr>\n",
       "\t<tr><th scope=col>&lt;fct&gt;</th><th scope=col>&lt;fct&gt;</th><th scope=col>&lt;fct&gt;</th><th scope=col>&lt;fct&gt;</th><th scope=col>&lt;fct&gt;</th><th scope=col>&lt;dbl&gt;</th><th scope=col>&lt;dbl&gt;</th><th scope=col>&lt;int&gt;</th><th scope=col>&lt;int&gt;</th><th scope=col>&lt;int&gt;</th></tr>\n",
       "</thead>\n",
       "<tbody>\n",
       "\t<tr><td>Cluster</td><td>Wanita</td><td>Pelajar</td><td>CUST-100</td><td>Raisya Wilamar</td><td>20</td><td>3.5</td><td>3</td><td>2</td><td>1</td></tr>\n",
       "</tbody>\n",
       "</table>\n"
      ],
      "text/latex": [
       "A data.frame: 1 × 10\n",
       "\\begin{tabular}{llllllllll}\n",
       " Tipe.Residen & Jenis.Kelamin & Profesi & Customer\\_ID & Nama.Pelanggan & Umur & NilaiBelanjaSetahun & Profesi.1 & Jenis.Kelamin.1 & Tipe.Residen.1\\\\\n",
       " <fct> & <fct> & <fct> & <fct> & <fct> & <dbl> & <dbl> & <int> & <int> & <int>\\\\\n",
       "\\hline\n",
       "\t Cluster & Wanita & Pelajar & CUST-100 & Raisya Wilamar & 20 & 3.5 & 3 & 2 & 1\\\\\n",
       "\\end{tabular}\n"
      ],
      "text/markdown": [
       "\n",
       "A data.frame: 1 × 10\n",
       "\n",
       "| Tipe.Residen &lt;fct&gt; | Jenis.Kelamin &lt;fct&gt; | Profesi &lt;fct&gt; | Customer_ID &lt;fct&gt; | Nama.Pelanggan &lt;fct&gt; | Umur &lt;dbl&gt; | NilaiBelanjaSetahun &lt;dbl&gt; | Profesi.1 &lt;int&gt; | Jenis.Kelamin.1 &lt;int&gt; | Tipe.Residen.1 &lt;int&gt; |\n",
       "|---|---|---|---|---|---|---|---|---|---|\n",
       "| Cluster | Wanita | Pelajar | CUST-100 | Raisya Wilamar | 20 | 3.5 | 3 | 2 | 1 |\n",
       "\n"
      ],
      "text/plain": [
       "  Tipe.Residen Jenis.Kelamin Profesi Customer_ID Nama.Pelanggan Umur\n",
       "1 Cluster      Wanita        Pelajar CUST-100    Raisya Wilamar 20  \n",
       "  NilaiBelanjaSetahun Profesi.1 Jenis.Kelamin.1 Tipe.Residen.1\n",
       "1 3.5                 3         2               1             "
      ]
     },
     "metadata": {},
     "output_type": "display_data"
    }
   ],
   "source": [
    "#Masukkan perintah untuk penggabungan data\n",
    "databaru <- merge(databaru, Identitas.Cluster$Profesi)\n",
    "databaru <- merge(databaru, Identitas.Cluster$Jenis.Kelamin)\n",
    "databaru <- merge(databaru, Identitas.Cluster$Tipe.Residen)\n",
    "databaru"
   ]
  },
  {
   "cell_type": "code",
   "execution_count": 21,
   "metadata": {},
   "outputs": [
    {
     "data": {
      "text/html": [
       "<table>\n",
       "<caption>A data.frame: 1 × 2</caption>\n",
       "<thead>\n",
       "\t<tr><th></th><th scope=col>cluster</th><th scope=col>Nama.Segmen</th></tr>\n",
       "\t<tr><th></th><th scope=col>&lt;dbl&gt;</th><th scope=col>&lt;fct&gt;</th></tr>\n",
       "</thead>\n",
       "<tbody>\n",
       "\t<tr><th scope=row>1</th><td>1</td><td>Gen.Z Woman</td></tr>\n",
       "</tbody>\n",
       "</table>\n"
      ],
      "text/latex": [
       "A data.frame: 1 × 2\n",
       "\\begin{tabular}{r|ll}\n",
       "  & cluster & Nama.Segmen\\\\\n",
       "  & <dbl> & <fct>\\\\\n",
       "\\hline\n",
       "\t1 & 1 & Gen.Z Woman\\\\\n",
       "\\end{tabular}\n"
      ],
      "text/markdown": [
       "\n",
       "A data.frame: 1 × 2\n",
       "\n",
       "| <!--/--> | cluster &lt;dbl&gt; | Nama.Segmen &lt;fct&gt; |\n",
       "|---|---|---|\n",
       "| 1 | 1 | Gen.Z Woman |\n",
       "\n"
      ],
      "text/plain": [
       "  cluster Nama.Segmen\n",
       "1 1       Gen.Z Woman"
      ]
     },
     "metadata": {},
     "output_type": "display_data"
    }
   ],
   "source": [
    "#menentukan data baru di cluster mana\n",
    "Identitas.Cluster$Segmen.Pelanggan[which.min(sapply(1:3, function(x) sum((databaru[Identitas.Cluster$field_yang_digunakan] - Identitas.Cluster$Segmentasi$centers[x,])^2))),]"
   ]
  },
  {
   "cell_type": "markdown",
   "metadata": {},
   "source": [
    "### Terlihat bahwa data yang baru saja kita masukkan di prediksi oleh model termasuk ke dalam cluster ke 1"
   ]
  }
 ],
 "metadata": {
  "kernelspec": {
   "display_name": "R",
   "language": "R",
   "name": "ir"
  },
  "language_info": {
   "codemirror_mode": "r",
   "file_extension": ".r",
   "mimetype": "text/x-r-source",
   "name": "R",
   "pygments_lexer": "r",
   "version": "3.6.1"
  }
 },
 "nbformat": 4,
 "nbformat_minor": 4
}
